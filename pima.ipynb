{
 "cells": [
  {
   "cell_type": "code",
   "execution_count": 7,
   "metadata": {},
   "outputs": [],
   "source": [
    "#http://eric.univ-lyon2.fr/~ricco/cours/slides/PJ%20-%20machine%20learning%20avec%20scikit-learn.pdf\n",
    "# import warnings filter\n",
    "from warnings import simplefilter\n",
    "# ignore all future warnings\n",
    "simplefilter(action='ignore', category=FutureWarning)"
   ]
  },
  {
   "cell_type": "code",
   "execution_count": 8,
   "metadata": {},
   "outputs": [
    {
     "name": "stdout",
     "output_type": "stream",
     "text": [
      "(768, 9)\n",
      "Index(['pregnant', 'diastolic', 'triceps', 'bodymass', 'pedigree', 'age',\n",
      "       'plasma', 'serum', 'diabete'],\n",
      "      dtype='object')\n",
      "pregnant       int64\n",
      "diastolic      int64\n",
      "triceps        int64\n",
      "bodymass     float64\n",
      "pedigree     float64\n",
      "age            int64\n",
      "plasma         int64\n",
      "serum          int64\n",
      "diabete       object\n",
      "dtype: object\n"
     ]
    }
   ],
   "source": [
    "import numpy\n",
    "import pandas\n",
    "pima = pandas.read_table(\"pima.txt\", sep=\"\\t\", header=0)\n",
    "print(pima.shape)\n",
    "print(pima.columns)\n",
    "print(pima.dtypes)"
   ]
  },
  {
   "cell_type": "code",
   "execution_count": 9,
   "metadata": {},
   "outputs": [
    {
     "name": "stdout",
     "output_type": "stream",
     "text": [
      "(468, 8) (300, 8) (468,) (300,)\n"
     ]
    }
   ],
   "source": [
    "data = pima.values\n",
    "X = data[:,0:8]\n",
    "y = data[:,8]\n",
    "\n",
    "from sklearn import model_selection\n",
    "X_app, X_test, y_app, y_test = model_selection.train_test_split(X, y, test_size = 300, random_state=0)\n",
    "print(X_app.shape, X_test.shape, y_app.shape, y_test.shape)"
   ]
  },
  {
   "cell_type": "code",
   "execution_count": 10,
   "metadata": {},
   "outputs": [
    {
     "name": "stdout",
     "output_type": "stream",
     "text": [
      "[[ 8.75153769e-02 -1.59511103e-02  1.70428483e-03  5.18609374e-02\n",
      "   5.34696503e-01  1.24335202e-02  2.40115458e-02 -2.91586161e-04]] [-5.13527961]\n"
     ]
    }
   ],
   "source": [
    "from sklearn.linear_model import LogisticRegression\n",
    "\n",
    "lr = LogisticRegression()\n",
    "\n",
    "modele = lr.fit(X_app, y_app)\n",
    "\n",
    "print(modele.coef_, modele.intercept_)"
   ]
  },
  {
   "cell_type": "code",
   "execution_count": 11,
   "metadata": {},
   "outputs": [
    {
     "name": "stdout",
     "output_type": "stream",
     "text": [
      "ligne = observé et colonne = prédiction :\n",
      "[[184  17]\n",
      " [ 45  54]]\n",
      "acc = 0.7933333333333333\n",
      "err rate = 0.20666666666666667\n",
      "0.5454545454545454\n"
     ]
    }
   ],
   "source": [
    "y_pred = modele.predict(X_test)\n",
    "\n",
    "from sklearn import metrics\n",
    "\n",
    "cm = metrics.confusion_matrix(y_test, y_pred)\n",
    "print(\"ligne = observé et colonne = prédiction :\\n\" + str(cm))\n",
    "\n",
    "acc = metrics.accuracy_score(y_test, y_pred)\n",
    "print(\"acc = \" + str(acc))\n",
    "\n",
    "err = 1.0 - acc\n",
    "print(\"err rate = \" + str(err))\n",
    "\n",
    "sensibility = metrics.recall_score(y_test, y_pred, pos_label='positive')\n",
    "print(sensibility)"
   ]
  },
  {
   "cell_type": "code",
   "execution_count": 19,
   "metadata": {},
   "outputs": [
    {
     "name": "stdout",
     "output_type": "stream",
     "text": [
      "0.9154228855721394\n"
     ]
    }
   ],
   "source": [
    "def specificity(y, y_hat):\n",
    "    mc = metrics.confusion_matrix(y, y_hat)\n",
    "    res = mc[0,0]/numpy.sum(mc[0,:])\n",
    "    return res\n",
    "    \n",
    "specificite = metrics.make_scorer(specificity, greater_is_better = True)\n",
    "\n",
    "sp = specificite(modele, X_test, y_test)\n",
    "print(sp)"
   ]
  },
  {
   "cell_type": "code",
   "execution_count": 20,
   "metadata": {},
   "outputs": [
    {
     "name": "stdout",
     "output_type": "stream",
     "text": [
      "[[ 1.17087631e-01 -1.68947770e-02  7.46053001e-04  5.97221654e-02\n",
      "   6.81392866e-01  7.21999666e-03  2.83788475e-02 -6.42978367e-04]] [-5.88988049]\n"
     ]
    }
   ],
   "source": [
    "lr = LogisticRegression()\n",
    "modele_all = lr.fit(X, y)\n",
    "\n",
    "print(modele_all.coef_, modele_all.intercept_)"
   ]
  },
  {
   "cell_type": "code",
   "execution_count": 21,
   "metadata": {},
   "outputs": [
    {
     "name": "stdout",
     "output_type": "stream",
     "text": [
      "[0.74025974 0.75324675 0.79220779 0.72727273 0.74025974 0.74025974\n",
      " 0.81818182 0.79220779 0.73684211 0.82894737]\n",
      "0.7669685577580314\n"
     ]
    }
   ],
   "source": [
    "#évaluation en validation croisée : 10 cross-validation\n",
    "succes = model_selection.cross_val_score(lr, X, y, cv=10, scoring='accuracy')\n",
    "print(succes)\n",
    "print(succes.mean())"
   ]
  },
  {
   "cell_type": "code",
   "execution_count": 22,
   "metadata": {},
   "outputs": [
    {
     "name": "stdout",
     "output_type": "stream",
     "text": [
      "Il y a 99 indices 'positifs' dans l'échantillon test\n"
     ]
    }
   ],
   "source": [
    "modele = lr.fit(X_app, y_app)\n",
    "# probabilité negative et positive pour chaque ligne\n",
    "probas = lr.predict_proba(X_test)\n",
    "# score probabilité que positive\n",
    "score = probas[:, 1]\n",
    "# transforme les valeurs y_test en 0/1\n",
    "pos = pandas.get_dummies(y_test).as_matrix()\n",
    "pos = pos[:, 1]\n",
    "\n",
    "npos=numpy.sum(pos)\n",
    "print(\"Il y a \" + str(npos) + \" indices 'positifs' dans l'échantillon test\")"
   ]
  },
  {
   "cell_type": "code",
   "execution_count": 33,
   "metadata": {},
   "outputs": [],
   "source": [
    "index = numpy.argsort(score)\n",
    "index = index[::-1]\n",
    "sort_pos = pos[index]\n",
    "cpos = numpy.cumsum(sort_pos)\n",
    "rappel = cpos/npos\n",
    "n = y_test.shape[0]\n",
    "taille = numpy.arange(start=1, stop=301, step=1)\n",
    "taille = taille/n"
   ]
  },
  {
   "cell_type": "code",
   "execution_count": 35,
   "metadata": {},
   "outputs": [
    {
     "data": {
      "image/png": "[encoded data removed]",
      "text/plain": [
       "<Figure size 432x288 with 1 Axes>"
      ]
     },
     "metadata": {
      "needs_background": "light"
     },
     "output_type": "display_data"
    }
   ],
   "source": [
    "import matplotlib.pyplot as plt\n",
    "\n",
    "plt.title('Courbe de gain')\n",
    "plt.xlabel('Taille de cible')\n",
    "plt.ylabel('Rappel')\n",
    "\n",
    "plt.xlim(0,1)\n",
    "plt.ylim(0,1)\n",
    "\n",
    "plt.scatter(taille, taille, marker='.', color = 'blue')\n",
    "plt.scatter(taille, rappel, marker='.', color = 'red')\n",
    "\n",
    "plt.show()"
   ]
  },
  {
   "cell_type": "code",
   "execution_count": 36,
   "metadata": {},
   "outputs": [
    {
     "name": "stdout",
     "output_type": "stream",
     "text": [
      "[[201   0]\n",
      " [ 99   0]]\n",
      "0.67\n"
     ]
    }
   ],
   "source": [
    "from sklearn import svm\n",
    "\n",
    "mvs = svm.SVC()\n",
    "modele2 = mvs.fit(X_app, y_app)\n",
    "y_pred2 = modele2.predict(X_test)\n",
    "print(metrics.confusion_matrix(y_test, y_pred2))\n",
    "print(metrics.accuracy_score(y_test, y_pred2))"
   ]
  },
  {
   "cell_type": "code",
   "execution_count": null,
   "metadata": {},
   "outputs": [],
   "source": [
    "from sklearn import model_selection\n",
    "\n",
    "parameters = [{'C' : [0.1, 1, 10], 'kernel' : ['rbf', 'linear']}]\n",
    "grid = model_selection.GridSearchCV(estimator=mvs, param_grid=parameters, scoring='accuracy')\n",
    "grille = grid.fit(X_app, y_app)\n",
    "\n",
    "print(pandas.DataFrame.from_dict(grille.cv_results_).loc[:,[\"params\",\"mean_test_score\"]])\n",
    "print(grille.best_params_)\n",
    "print(grille.best_score)\n",
    "\n",
    "y_pred3 = grille.predict(X_test)\n",
    "print(metrics.accuracy_score(y_test, y_pred3))"
   ]
  },
  {
   "cell_type": "code",
   "execution_count": 39,
   "metadata": {},
   "outputs": [
    {
     "name": "stdout",
     "output_type": "stream",
     "text": [
      "4\n",
      "[ True False False  True  True False  True False]\n",
      "[1 2 4 1 1 3 1 5]\n"
     ]
    }
   ],
   "source": [
    "from sklearn.linear_model import LogisticRegression\n",
    "from sklearn.feature_selection import RFE\n",
    "\n",
    "lr = LogisticRegression()\n",
    "selecteur = RFE(estimator=lr)\n",
    "sol = selecteur.fit(X_app, y_app)\n",
    "print(sol.n_features_)\n",
    "print(sol.support_)\n",
    "print(sol.ranking_)"
   ]
  },
  {
   "cell_type": "code",
   "execution_count": 40,
   "metadata": {},
   "outputs": [
    {
     "name": "stdout",
     "output_type": "stream",
     "text": [
      "(468, 4)\n",
      "(300, 4)\n",
      "0.7866666666666666\n"
     ]
    }
   ],
   "source": [
    "X_new_app = X_app[:, sol.support_]\n",
    "print(X_new_app.shape)\n",
    "\n",
    "modele_sel = lr.fit(X_new_app, y_app)\n",
    "X_new_test = X_test[:,sol.support_]\n",
    "print(X_new_test.shape)\n",
    "\n",
    "y_pred_sel = modele_sel.predict(X_new_test)\n",
    "print(metrics.accuracy_score(y_test, y_pred_sel))"
   ]
  },
  {
   "cell_type": "code",
   "execution_count": null,
   "metadata": {},
   "outputs": [],
   "source": []
  }
 ],
 "metadata": {
  "kernelspec": {
   "display_name": "Python 3",
   "language": "python",
   "name": "python3"
  },
  "language_info": {
   "codemirror_mode": {
    "name": "ipython",
    "version": 3
   },
   "file_extension": ".py",
   "mimetype": "text/x-python",
   "name": "python",
   "nbconvert_exporter": "python",
   "pygments_lexer": "ipython3",
   "version": "3.7.4"
  }
 },
 "nbformat": 4,
 "nbformat_minor": 4
}
